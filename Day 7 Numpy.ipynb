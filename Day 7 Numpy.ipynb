{
 "cells": [
  {
   "cell_type": "code",
   "execution_count": 1,
   "metadata": {},
   "outputs": [],
   "source": [
    "import numpy as np"
   ]
  },
  {
   "cell_type": "code",
   "execution_count": 2,
   "metadata": {},
   "outputs": [],
   "source": [
    "a = np.array([3,8,2,67,45])"
   ]
  },
  {
   "cell_type": "code",
   "execution_count": 3,
   "metadata": {},
   "outputs": [
    {
     "data": {
      "text/plain": [
       "array([ 3,  8,  2, 67, 45])"
      ]
     },
     "execution_count": 3,
     "metadata": {},
     "output_type": "execute_result"
    }
   ],
   "source": [
    "a"
   ]
  },
  {
   "cell_type": "code",
   "execution_count": 7,
   "metadata": {},
   "outputs": [
    {
     "name": "stdout",
     "output_type": "stream",
     "text": [
      "5\n",
      "(5,)\n",
      "int32\n",
      "5\n"
     ]
    }
   ],
   "source": [
    "print(a.size)\n",
    "print(a.shape)\n",
    "print(a.dtype)\n",
    "print(len(a))"
   ]
  },
  {
   "cell_type": "code",
   "execution_count": 8,
   "metadata": {},
   "outputs": [],
   "source": [
    "# create two D data\n",
    "b = np.array([[10,11,13,14],[45,22,9,2],[6,5,1,8]])"
   ]
  },
  {
   "cell_type": "code",
   "execution_count": 12,
   "metadata": {},
   "outputs": [
    {
     "name": "stdout",
     "output_type": "stream",
     "text": [
      "Array is :\n",
      "[[10 11 13 14]\n",
      " [45 22  9  2]\n",
      " [ 6  5  1  8]]\n",
      "shape is : (3, 4)\n",
      "size is : 12\n",
      "data type is : int32\n",
      "length is : 3\n",
      "Type is : <class 'numpy.ndarray'>\n"
     ]
    }
   ],
   "source": [
    "print(\"Array is :\")\n",
    "print(b)\n",
    "print(\"shape is :\", b.shape)\n",
    "print(\"size is :\",b.size)\n",
    "print(\"data type is :\",a.dtype)\n",
    "print(\"length is :\",len(b))\n",
    "print(\"Type is :\",type(b))"
   ]
  },
  {
   "cell_type": "code",
   "execution_count": 11,
   "metadata": {},
   "outputs": [
    {
     "name": "stdout",
     "output_type": "stream",
     "text": [
      "[[10 11 13 14]\n",
      " [45 22  9  2]\n",
      " [ 6  5  1  8]]\n"
     ]
    }
   ],
   "source": [
    "# Array Operation\n",
    "# 1. Item Accessing: Indexing: Subscripting: Slicing\n",
    "# 2. Item Insertion\n",
    "# 3. Item Deletion\n",
    "# 4. Arithmatic"
   ]
  },
  {
   "cell_type": "code",
   "execution_count": null,
   "metadata": {},
   "outputs": [],
   "source": []
  }
 ],
 "metadata": {
  "kernelspec": {
   "display_name": "Python 3",
   "language": "python",
   "name": "python3"
  },
  "language_info": {
   "codemirror_mode": {
    "name": "ipython",
    "version": 3
   },
   "file_extension": ".py",
   "mimetype": "text/x-python",
   "name": "python",
   "nbconvert_exporter": "python",
   "pygments_lexer": "ipython3",
   "version": "3.9.11"
  },
  "orig_nbformat": 4
 },
 "nbformat": 4,
 "nbformat_minor": 2
}

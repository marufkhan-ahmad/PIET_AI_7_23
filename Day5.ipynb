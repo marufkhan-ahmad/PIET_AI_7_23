{
 "cells": [
  {
   "cell_type": "code",
   "execution_count": 1,
   "metadata": {},
   "outputs": [
    {
     "name": "stdout",
     "output_type": "stream",
     "text": [
      "hi\n"
     ]
    }
   ],
   "source": [
    "# User defined function\n",
    "# statement \n",
    "# expr\n",
    "# exp\n",
    "def kuchhbhi():\n",
    "     print('hi')\n",
    "kuchhbhi()"
   ]
  },
  {
   "cell_type": "code",
   "execution_count": 2,
   "metadata": {},
   "outputs": [],
   "source": [
    "# Types\n",
    "# 1. No input, No output\n",
    "# 2. Input , but no output\n",
    "# 3.No Input , but Output\n",
    "# 4.Both input and output\n",
    "def abc1():\n",
    "     print('It\\'s No input no Output Func')\n",
    "def abc2(x):\n",
    "     print(f'It\\'s fetching x = {x} but No output')\n",
    "def abc3():\n",
    "     return \"Its a string returned from function as output\"\n",
    "def abc4(x,y):\n",
    "     return x*2 , y+x+y"
   ]
  },
  {
   "cell_type": "code",
   "execution_count": 3,
   "metadata": {},
   "outputs": [
    {
     "name": "stdout",
     "output_type": "stream",
     "text": [
      "It's No input no Output Func\n",
      "None\n"
     ]
    }
   ],
   "source": [
    "a = abc1()\n",
    "print(a)"
   ]
  },
  {
   "cell_type": "code",
   "execution_count": 5,
   "metadata": {},
   "outputs": [
    {
     "ename": "NameError",
     "evalue": "name 'x' is not defined",
     "output_type": "error",
     "traceback": [
      "\u001b[1;31m---------------------------------------------------------------------------\u001b[0m",
      "\u001b[1;31mNameError\u001b[0m                                 Traceback (most recent call last)",
      "\u001b[1;32mc:\\Users\\mk744\\Downloads\\Internship basic python\\Day5.ipynb Cell 4\u001b[0m in \u001b[0;36m<cell line: 1>\u001b[1;34m()\u001b[0m\n\u001b[1;32m----> <a href='vscode-notebook-cell:/c%3A/Users/mk744/Downloads/Internship%20basic%20python/Day5.ipynb#W3sZmlsZQ%3D%3D?line=0'>1</a>\u001b[0m b \u001b[39m=\u001b[39m abc2(x)\n\u001b[0;32m      <a href='vscode-notebook-cell:/c%3A/Users/mk744/Downloads/Internship%20basic%20python/Day5.ipynb#W3sZmlsZQ%3D%3D?line=1'>2</a>\u001b[0m \u001b[39mprint\u001b[39m(b)\n",
      "\u001b[1;31mNameError\u001b[0m: name 'x' is not defined"
     ]
    }
   ],
   "source": [
    "b = abc2()\n",
    "print(b)"
   ]
  },
  {
   "cell_type": "code",
   "execution_count": 6,
   "metadata": {},
   "outputs": [
    {
     "name": "stdout",
     "output_type": "stream",
     "text": [
      "Its a string returned from function as output\n"
     ]
    }
   ],
   "source": [
    "c = abc3()\n",
    "print(c)"
   ]
  },
  {
   "cell_type": "code",
   "execution_count": 7,
   "metadata": {},
   "outputs": [
    {
     "name": "stdout",
     "output_type": "stream",
     "text": [
      "(10, 21)\n"
     ]
    }
   ],
   "source": [
    "d= abc4(5,8)\n",
    "print(d)"
   ]
  },
  {
   "cell_type": "code",
   "execution_count": 8,
   "metadata": {},
   "outputs": [
    {
     "name": "stdout",
     "output_type": "stream",
     "text": [
      "10\n",
      "21\n"
     ]
    }
   ],
   "source": [
    "e,f = abc4(5,8)\n",
    "print(e);print(f)"
   ]
  },
  {
   "cell_type": "code",
   "execution_count": 9,
   "metadata": {},
   "outputs": [
    {
     "data": {
      "text/plain": [
       "(16, 18)"
      ]
     },
     "execution_count": 9,
     "metadata": {},
     "output_type": "execute_result"
    }
   ],
   "source": [
    "abc4(y=5,x=8)"
   ]
  },
  {
   "cell_type": "code",
   "execution_count": 10,
   "metadata": {},
   "outputs": [
    {
     "data": {
      "text/plain": [
       "(10, 25)"
      ]
     },
     "execution_count": 10,
     "metadata": {},
     "output_type": "execute_result"
    }
   ],
   "source": [
    "abc4(5,y =10)"
   ]
  },
  {
   "cell_type": "code",
   "execution_count": 11,
   "metadata": {},
   "outputs": [
    {
     "ename": "TypeError",
     "evalue": "abc4() missing 1 required positional argument: 'y'",
     "output_type": "error",
     "traceback": [
      "\u001b[1;31m---------------------------------------------------------------------------\u001b[0m",
      "\u001b[1;31mTypeError\u001b[0m                                 Traceback (most recent call last)",
      "\u001b[1;32mc:\\Users\\mk744\\Downloads\\Internship basic python\\Day5.ipynb Cell 10\u001b[0m in \u001b[0;36m<cell line: 3>\u001b[1;34m()\u001b[0m\n\u001b[0;32m      <a href='vscode-notebook-cell:/c%3A/Users/mk744/Downloads/Internship%20basic%20python/Day5.ipynb#X12sZmlsZQ%3D%3D?line=0'>1</a>\u001b[0m \u001b[39m# you can not do like this\u001b[39;00m\n\u001b[0;32m      <a href='vscode-notebook-cell:/c%3A/Users/mk744/Downloads/Internship%20basic%20python/Day5.ipynb#X12sZmlsZQ%3D%3D?line=1'>2</a>\u001b[0m \u001b[39m# abc4(y = 9, 6)\u001b[39;00m\n\u001b[1;32m----> <a href='vscode-notebook-cell:/c%3A/Users/mk744/Downloads/Internship%20basic%20python/Day5.ipynb#X12sZmlsZQ%3D%3D?line=2'>3</a>\u001b[0m abc4(\u001b[39m5\u001b[39;49m)\n",
      "\u001b[1;31mTypeError\u001b[0m: abc4() missing 1 required positional argument: 'y'"
     ]
    }
   ],
   "source": [
    "# you can not do like this\n",
    "# abc4(y = 9, 6)\n",
    "abc4(5)"
   ]
  },
  {
   "cell_type": "code",
   "execution_count": 12,
   "metadata": {},
   "outputs": [
    {
     "ename": "TypeError",
     "evalue": "abc4() takes 2 positional arguments but 3 were given",
     "output_type": "error",
     "traceback": [
      "\u001b[1;31m---------------------------------------------------------------------------\u001b[0m",
      "\u001b[1;31mTypeError\u001b[0m                                 Traceback (most recent call last)",
      "\u001b[1;32mc:\\Users\\mk744\\Downloads\\Internship basic python\\Day5.ipynb Cell 11\u001b[0m in \u001b[0;36m<cell line: 1>\u001b[1;34m()\u001b[0m\n\u001b[1;32m----> <a href='vscode-notebook-cell:/c%3A/Users/mk744/Downloads/Internship%20basic%20python/Day5.ipynb#X13sZmlsZQ%3D%3D?line=0'>1</a>\u001b[0m abc4(\u001b[39m4\u001b[39;49m,\u001b[39m5\u001b[39;49m,\u001b[39m6\u001b[39;49m)\n",
      "\u001b[1;31mTypeError\u001b[0m: abc4() takes 2 positional arguments but 3 were given"
     ]
    }
   ],
   "source": [
    "abc4(4,5,6)"
   ]
  },
  {
   "cell_type": "code",
   "execution_count": 13,
   "metadata": {},
   "outputs": [
    {
     "ename": "TypeError",
     "evalue": "abc4() got an unexpected keyword argument 'c'",
     "output_type": "error",
     "traceback": [
      "\u001b[1;31m---------------------------------------------------------------------------\u001b[0m",
      "\u001b[1;31mTypeError\u001b[0m                                 Traceback (most recent call last)",
      "\u001b[1;32mc:\\Users\\mk744\\Downloads\\Internship basic python\\Day5.ipynb Cell 12\u001b[0m in \u001b[0;36m<cell line: 1>\u001b[1;34m()\u001b[0m\n\u001b[1;32m----> <a href='vscode-notebook-cell:/c%3A/Users/mk744/Downloads/Internship%20basic%20python/Day5.ipynb#X14sZmlsZQ%3D%3D?line=0'>1</a>\u001b[0m abc4(x\u001b[39m=\u001b[39;49m\u001b[39m9\u001b[39;49m,y\u001b[39m=\u001b[39;49m\u001b[39m5\u001b[39;49m,c\u001b[39m=\u001b[39;49m\u001b[39m10\u001b[39;49m)\n",
      "\u001b[1;31mTypeError\u001b[0m: abc4() got an unexpected keyword argument 'c'"
     ]
    }
   ],
   "source": [
    "abc4(x=9,y=5,c=10)"
   ]
  },
  {
   "cell_type": "code",
   "execution_count": 15,
   "metadata": {},
   "outputs": [
    {
     "name": "stdout",
     "output_type": "stream",
     "text": [
      "(2, 1)\n",
      "(8, 4)\n",
      "(8, 14)\n"
     ]
    }
   ],
   "source": [
    "# Default value to function argument\n",
    "def abc5(x=1,y=0):\n",
    "     return x*2, y+x+y\n",
    "print(abc5())\n",
    "print(abc5(4))\n",
    "print(abc5(4,5))\n"
   ]
  },
  {
   "cell_type": "code",
   "execution_count": 20,
   "metadata": {},
   "outputs": [
    {
     "name": "stdout",
     "output_type": "stream",
     "text": [
      "2 1\n",
      "()\n",
      "{}\n"
     ]
    }
   ],
   "source": [
    "# *args, **kwargs\n",
    "def abc6(x=1, y=0, *p, **q):\n",
    "     print(x*2, y+x+y)\n",
    "     print(p)\n",
    "     print(q)\n",
    "abc6()"
   ]
  },
  {
   "cell_type": "code",
   "execution_count": 21,
   "metadata": {},
   "outputs": [
    {
     "name": "stdout",
     "output_type": "stream",
     "text": [
      "10 13\n",
      "()\n",
      "{}\n"
     ]
    }
   ],
   "source": [
    "abc6(5,4)"
   ]
  },
  {
   "cell_type": "code",
   "execution_count": 22,
   "metadata": {},
   "outputs": [
    {
     "name": "stdout",
     "output_type": "stream",
     "text": [
      "10 13\n",
      "(9,)\n",
      "{}\n"
     ]
    }
   ],
   "source": [
    "abc6(5,4,9)"
   ]
  },
  {
   "cell_type": "code",
   "execution_count": 23,
   "metadata": {},
   "outputs": [
    {
     "name": "stdout",
     "output_type": "stream",
     "text": [
      "10 13\n",
      "(9, 10, 34, 456, 'hi', 23)\n",
      "{}\n"
     ]
    }
   ],
   "source": [
    "abc6(5,4,9,10,34,456,'hi',23)"
   ]
  },
  {
   "cell_type": "code",
   "execution_count": 24,
   "metadata": {},
   "outputs": [
    {
     "name": "stdout",
     "output_type": "stream",
     "text": [
      "10 13\n",
      "(9, 10, 34, 456, 'hi', 23)\n",
      "{'m': 23, 'n': [4, 7, 8]}\n"
     ]
    }
   ],
   "source": [
    "abc6(5,4,9,10,34,456,'hi',23, m = 23, n = [4,7,8] )"
   ]
  },
  {
   "cell_type": "code",
   "execution_count": 25,
   "metadata": {},
   "outputs": [
    {
     "ename": "TypeError",
     "evalue": "abc6() got multiple values for argument 'x'",
     "output_type": "error",
     "traceback": [
      "\u001b[1;31m---------------------------------------------------------------------------\u001b[0m",
      "\u001b[1;31mTypeError\u001b[0m                                 Traceback (most recent call last)",
      "\u001b[1;32mc:\\Users\\mk744\\Downloads\\Internship basic python\\Day5.ipynb Cell 19\u001b[0m in \u001b[0;36m<cell line: 1>\u001b[1;34m()\u001b[0m\n\u001b[1;32m----> <a href='vscode-notebook-cell:/c%3A/Users/mk744/Downloads/Internship%20basic%20python/Day5.ipynb#X25sZmlsZQ%3D%3D?line=0'>1</a>\u001b[0m abc6(\u001b[39m5\u001b[39;49m,\u001b[39m4\u001b[39;49m,\u001b[39m9\u001b[39;49m,\u001b[39m10\u001b[39;49m,\u001b[39m34\u001b[39;49m,\u001b[39m456\u001b[39;49m,\u001b[39m'\u001b[39;49m\u001b[39mhi\u001b[39;49m\u001b[39m'\u001b[39;49m,\u001b[39m23\u001b[39;49m, x\u001b[39m=\u001b[39;49m\u001b[39m34\u001b[39;49m)\n",
      "\u001b[1;31mTypeError\u001b[0m: abc6() got multiple values for argument 'x'"
     ]
    }
   ],
   "source": [
    "abc6(5,4,9,10,34,456,'hi',23, x=34)"
   ]
  },
  {
   "cell_type": "code",
   "execution_count": null,
   "metadata": {},
   "outputs": [],
   "source": []
  }
 ],
 "metadata": {
  "kernelspec": {
   "display_name": "Python 3",
   "language": "python",
   "name": "python3"
  },
  "language_info": {
   "codemirror_mode": {
    "name": "ipython",
    "version": 3
   },
   "file_extension": ".py",
   "mimetype": "text/x-python",
   "name": "python",
   "nbconvert_exporter": "python",
   "pygments_lexer": "ipython3",
   "version": "3.9.11"
  },
  "orig_nbformat": 4
 },
 "nbformat": 4,
 "nbformat_minor": 2
}
